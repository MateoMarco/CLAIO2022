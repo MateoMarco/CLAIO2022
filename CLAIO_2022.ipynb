{
  "nbformat": 4,
  "nbformat_minor": 0,
  "metadata": {
    "colab": {
      "provenance": [],
      "authorship_tag": "ABX9TyPEH0D3K3hn4NrRSTCdvgyP",
      "include_colab_link": true
    },
    "kernelspec": {
      "name": "python3",
      "display_name": "Python 3"
    },
    "language_info": {
      "name": "python"
    }
  },
  "cells": [
    {
      "cell_type": "markdown",
      "metadata": {
        "id": "view-in-github",
        "colab_type": "text"
      },
      "source": [
        "<a href=\"https://colab.research.google.com/github/MateoMarco/CLAIO2022/blob/main/CLAIO_2022.ipynb\" target=\"_parent\"><img src=\"https://colab.research.google.com/assets/colab-badge.svg\" alt=\"Open In Colab\"/></a>"
      ]
    },
    {
      "cell_type": "code",
      "execution_count": 102,
      "metadata": {
        "id": "6sRmEKsqEa3l"
      },
      "outputs": [],
      "source": [
        "import matplotlib.pyplot as plt\n",
        "import pandas as pd\n",
        "import numpy as np"
      ]
    },
    {
      "cell_type": "markdown",
      "source": [
        "Instalo las librerias para la tokenizacion, lematizacion, etc."
      ],
      "metadata": {
        "id": "OQuKT3ItJ2Y4"
      }
    },
    {
      "cell_type": "code",
      "source": [
        "!pip install textacy"
      ],
      "metadata": {
        "id": "2PUL2n9TLadu"
      },
      "execution_count": null,
      "outputs": []
    },
    {
      "cell_type": "code",
      "source": [
        "from nltk.stem import WordNetLemmatizer\n",
        "from nltk.stem import SnowballStemmer\n",
        "from nltk.tokenize import word_tokenize\n",
        "from nltk.corpus import stopwords\n",
        "import textacy.preprocessing as tprep"
      ],
      "metadata": {
        "id": "aHzu2GpvKE_y"
      },
      "execution_count": null,
      "outputs": []
    },
    {
      "cell_type": "code",
      "source": [
        "!gdown --id 1CV5VooCpM5tQSHTMyS_b1yKKxwVFpzvk\n",
        "\n",
        "df = pd.read_csv(\"IO Respuestas.csv\", sep=',')\n",
        "df"
      ],
      "metadata": {
        "colab": {
          "base_uri": "https://localhost:8080/",
          "height": 552
        },
        "id": "DUzPggaWGI1h",
        "outputId": "9d413a60-c178-402b-94cc-052b72f1b846"
      },
      "execution_count": 103,
      "outputs": [
        {
          "output_type": "stream",
          "name": "stdout",
          "text": [
            "/usr/local/lib/python3.7/dist-packages/gdown/cli.py:131: FutureWarning: Option `--id` was deprecated in version 4.3.1 and will be removed in 5.0. You don't need to pass it anymore to use a file ID.\n",
            "  category=FutureWarning,\n",
            "Downloading...\n",
            "From: https://drive.google.com/uc?id=1CV5VooCpM5tQSHTMyS_b1yKKxwVFpzvk\n",
            "To: /content/IO Respuestas.csv\n",
            "100% 17.4k/17.4k [00:00<00:00, 10.1MB/s]\n"
          ]
        },
        {
          "output_type": "execute_result",
          "data": {
            "text/plain": [
              "          Marca temporal Dirección de correo electrónico  Padrón sin números  \\\n",
              "0    30/03/2022 17:49:38               pcortif@fi.uba.ar              100723   \n",
              "1    30/03/2022 18:00:36             mcirolini@fi.uba.ar               97739   \n",
              "2    30/03/2022 18:30:40              rparedes@fi.uba.ar               97920   \n",
              "3    30/03/2022 19:20:14              mledesma@fi.uba.ar              102908   \n",
              "4    30/03/2022 19:20:32              tandrada@fi.uba.ar              100586   \n",
              "..                   ...                             ...                 ...   \n",
              "116  30/03/2022 21:52:35            jrenovales@fi.uba.ar              103787   \n",
              "117  30/03/2022 23:07:20            jovillamil@fi.uba.ar               99825   \n",
              "118  31/03/2022 12:00:41             npesaresi@fi.uba.ar              104911   \n",
              "119   1/04/2022 17:30:14                 mjung@fi.uba.ar              102939   \n",
              "120    2/04/2022 9:55:29              fcolotto@fi.uba.ar              101455   \n",
              "\n",
              "                   ¿qué es la Investigación Operativa?  \n",
              "0    Se basa en  la utilización de métodos analític...  \n",
              "1    Optimización y diseño de operaciones, control ...  \n",
              "2    Aplicaciones de métodos operativos a la vida real  \n",
              "3    La optimización de las operaciones mediante el...  \n",
              "4    Una forma interdisciplinaria de resolver probl...  \n",
              "..                                                 ...  \n",
              "116  Es el area que se encarga de aplicar distintos...  \n",
              "117                                                NaN  \n",
              "118  Aplicación de la ciencia moderna a problemas c...  \n",
              "119  No pude completar la encuesta con el celular e...  \n",
              "120  El estudio de las operaciones. Como distribuir...  \n",
              "\n",
              "[121 rows x 4 columns]"
            ],
            "text/html": [
              "\n",
              "  <div id=\"df-badb483f-ef38-4345-b160-e9991e7f695d\">\n",
              "    <div class=\"colab-df-container\">\n",
              "      <div>\n",
              "<style scoped>\n",
              "    .dataframe tbody tr th:only-of-type {\n",
              "        vertical-align: middle;\n",
              "    }\n",
              "\n",
              "    .dataframe tbody tr th {\n",
              "        vertical-align: top;\n",
              "    }\n",
              "\n",
              "    .dataframe thead th {\n",
              "        text-align: right;\n",
              "    }\n",
              "</style>\n",
              "<table border=\"1\" class=\"dataframe\">\n",
              "  <thead>\n",
              "    <tr style=\"text-align: right;\">\n",
              "      <th></th>\n",
              "      <th>Marca temporal</th>\n",
              "      <th>Dirección de correo electrónico</th>\n",
              "      <th>Padrón sin números</th>\n",
              "      <th>¿qué es la Investigación Operativa?</th>\n",
              "    </tr>\n",
              "  </thead>\n",
              "  <tbody>\n",
              "    <tr>\n",
              "      <th>0</th>\n",
              "      <td>30/03/2022 17:49:38</td>\n",
              "      <td>pcortif@fi.uba.ar</td>\n",
              "      <td>100723</td>\n",
              "      <td>Se basa en  la utilización de métodos analític...</td>\n",
              "    </tr>\n",
              "    <tr>\n",
              "      <th>1</th>\n",
              "      <td>30/03/2022 18:00:36</td>\n",
              "      <td>mcirolini@fi.uba.ar</td>\n",
              "      <td>97739</td>\n",
              "      <td>Optimización y diseño de operaciones, control ...</td>\n",
              "    </tr>\n",
              "    <tr>\n",
              "      <th>2</th>\n",
              "      <td>30/03/2022 18:30:40</td>\n",
              "      <td>rparedes@fi.uba.ar</td>\n",
              "      <td>97920</td>\n",
              "      <td>Aplicaciones de métodos operativos a la vida real</td>\n",
              "    </tr>\n",
              "    <tr>\n",
              "      <th>3</th>\n",
              "      <td>30/03/2022 19:20:14</td>\n",
              "      <td>mledesma@fi.uba.ar</td>\n",
              "      <td>102908</td>\n",
              "      <td>La optimización de las operaciones mediante el...</td>\n",
              "    </tr>\n",
              "    <tr>\n",
              "      <th>4</th>\n",
              "      <td>30/03/2022 19:20:32</td>\n",
              "      <td>tandrada@fi.uba.ar</td>\n",
              "      <td>100586</td>\n",
              "      <td>Una forma interdisciplinaria de resolver probl...</td>\n",
              "    </tr>\n",
              "    <tr>\n",
              "      <th>...</th>\n",
              "      <td>...</td>\n",
              "      <td>...</td>\n",
              "      <td>...</td>\n",
              "      <td>...</td>\n",
              "    </tr>\n",
              "    <tr>\n",
              "      <th>116</th>\n",
              "      <td>30/03/2022 21:52:35</td>\n",
              "      <td>jrenovales@fi.uba.ar</td>\n",
              "      <td>103787</td>\n",
              "      <td>Es el area que se encarga de aplicar distintos...</td>\n",
              "    </tr>\n",
              "    <tr>\n",
              "      <th>117</th>\n",
              "      <td>30/03/2022 23:07:20</td>\n",
              "      <td>jovillamil@fi.uba.ar</td>\n",
              "      <td>99825</td>\n",
              "      <td>NaN</td>\n",
              "    </tr>\n",
              "    <tr>\n",
              "      <th>118</th>\n",
              "      <td>31/03/2022 12:00:41</td>\n",
              "      <td>npesaresi@fi.uba.ar</td>\n",
              "      <td>104911</td>\n",
              "      <td>Aplicación de la ciencia moderna a problemas c...</td>\n",
              "    </tr>\n",
              "    <tr>\n",
              "      <th>119</th>\n",
              "      <td>1/04/2022 17:30:14</td>\n",
              "      <td>mjung@fi.uba.ar</td>\n",
              "      <td>102939</td>\n",
              "      <td>No pude completar la encuesta con el celular e...</td>\n",
              "    </tr>\n",
              "    <tr>\n",
              "      <th>120</th>\n",
              "      <td>2/04/2022 9:55:29</td>\n",
              "      <td>fcolotto@fi.uba.ar</td>\n",
              "      <td>101455</td>\n",
              "      <td>El estudio de las operaciones. Como distribuir...</td>\n",
              "    </tr>\n",
              "  </tbody>\n",
              "</table>\n",
              "<p>121 rows × 4 columns</p>\n",
              "</div>\n",
              "      <button class=\"colab-df-convert\" onclick=\"convertToInteractive('df-badb483f-ef38-4345-b160-e9991e7f695d')\"\n",
              "              title=\"Convert this dataframe to an interactive table.\"\n",
              "              style=\"display:none;\">\n",
              "        \n",
              "  <svg xmlns=\"http://www.w3.org/2000/svg\" height=\"24px\"viewBox=\"0 0 24 24\"\n",
              "       width=\"24px\">\n",
              "    <path d=\"M0 0h24v24H0V0z\" fill=\"none\"/>\n",
              "    <path d=\"M18.56 5.44l.94 2.06.94-2.06 2.06-.94-2.06-.94-.94-2.06-.94 2.06-2.06.94zm-11 1L8.5 8.5l.94-2.06 2.06-.94-2.06-.94L8.5 2.5l-.94 2.06-2.06.94zm10 10l.94 2.06.94-2.06 2.06-.94-2.06-.94-.94-2.06-.94 2.06-2.06.94z\"/><path d=\"M17.41 7.96l-1.37-1.37c-.4-.4-.92-.59-1.43-.59-.52 0-1.04.2-1.43.59L10.3 9.45l-7.72 7.72c-.78.78-.78 2.05 0 2.83L4 21.41c.39.39.9.59 1.41.59.51 0 1.02-.2 1.41-.59l7.78-7.78 2.81-2.81c.8-.78.8-2.07 0-2.86zM5.41 20L4 18.59l7.72-7.72 1.47 1.35L5.41 20z\"/>\n",
              "  </svg>\n",
              "      </button>\n",
              "      \n",
              "  <style>\n",
              "    .colab-df-container {\n",
              "      display:flex;\n",
              "      flex-wrap:wrap;\n",
              "      gap: 12px;\n",
              "    }\n",
              "\n",
              "    .colab-df-convert {\n",
              "      background-color: #E8F0FE;\n",
              "      border: none;\n",
              "      border-radius: 50%;\n",
              "      cursor: pointer;\n",
              "      display: none;\n",
              "      fill: #1967D2;\n",
              "      height: 32px;\n",
              "      padding: 0 0 0 0;\n",
              "      width: 32px;\n",
              "    }\n",
              "\n",
              "    .colab-df-convert:hover {\n",
              "      background-color: #E2EBFA;\n",
              "      box-shadow: 0px 1px 2px rgba(60, 64, 67, 0.3), 0px 1px 3px 1px rgba(60, 64, 67, 0.15);\n",
              "      fill: #174EA6;\n",
              "    }\n",
              "\n",
              "    [theme=dark] .colab-df-convert {\n",
              "      background-color: #3B4455;\n",
              "      fill: #D2E3FC;\n",
              "    }\n",
              "\n",
              "    [theme=dark] .colab-df-convert:hover {\n",
              "      background-color: #434B5C;\n",
              "      box-shadow: 0px 1px 3px 1px rgba(0, 0, 0, 0.15);\n",
              "      filter: drop-shadow(0px 1px 2px rgba(0, 0, 0, 0.3));\n",
              "      fill: #FFFFFF;\n",
              "    }\n",
              "  </style>\n",
              "\n",
              "      <script>\n",
              "        const buttonEl =\n",
              "          document.querySelector('#df-badb483f-ef38-4345-b160-e9991e7f695d button.colab-df-convert');\n",
              "        buttonEl.style.display =\n",
              "          google.colab.kernel.accessAllowed ? 'block' : 'none';\n",
              "\n",
              "        async function convertToInteractive(key) {\n",
              "          const element = document.querySelector('#df-badb483f-ef38-4345-b160-e9991e7f695d');\n",
              "          const dataTable =\n",
              "            await google.colab.kernel.invokeFunction('convertToInteractive',\n",
              "                                                     [key], {});\n",
              "          if (!dataTable) return;\n",
              "\n",
              "          const docLinkHtml = 'Like what you see? Visit the ' +\n",
              "            '<a target=\"_blank\" href=https://colab.research.google.com/notebooks/data_table.ipynb>data table notebook</a>'\n",
              "            + ' to learn more about interactive tables.';\n",
              "          element.innerHTML = '';\n",
              "          dataTable['output_type'] = 'display_data';\n",
              "          await google.colab.output.renderOutput(dataTable, element);\n",
              "          const docLink = document.createElement('div');\n",
              "          docLink.innerHTML = docLinkHtml;\n",
              "          element.appendChild(docLink);\n",
              "        }\n",
              "      </script>\n",
              "    </div>\n",
              "  </div>\n",
              "  "
            ]
          },
          "metadata": {},
          "execution_count": 103
        }
      ]
    },
    {
      "cell_type": "markdown",
      "source": [
        "Creo un nuevo df con los padrones y las respuestas"
      ],
      "metadata": {
        "id": "XYrHDicIIFfS"
      }
    },
    {
      "cell_type": "code",
      "source": [
        "df2 = df[['Padrón sin números', '¿qué es la Investigación Operativa?']]\n",
        "df2.columns = ['Padron','Respuesta']"
      ],
      "metadata": {
        "id": "RMCKTCcBIIO_"
      },
      "execution_count": 104,
      "outputs": []
    },
    {
      "cell_type": "markdown",
      "source": [
        "En caso de ser necesario:"
      ],
      "metadata": {
        "id": "FbSfFuocTkAQ"
      }
    },
    {
      "cell_type": "code",
      "source": [
        "import nltk\n",
        "nltk.download('punkt')\n",
        "nltk.download('stopwords')"
      ],
      "metadata": {
        "id": "SE6W3OJdQKO_"
      },
      "execution_count": null,
      "outputs": []
    },
    {
      "cell_type": "markdown",
      "source": [
        "Primero tokenizo, luego elimino stop words, y por ultimo lematizo (obtengo las raices)."
      ],
      "metadata": {
        "id": "KZ-tdbbHTn0b"
      }
    },
    {
      "cell_type": "code",
      "source": [
        "for i in range (len(df2)):\n",
        "  df2[\"Respuesta\"][i] = word_tokenize(str(df2[\"Respuesta\"][i]).lower())\n",
        "  df2[\"Respuesta\"][i] = [word for word in df2[\"Respuesta\"][i] if word not in stopwords.words('spanish')]\n",
        "  stemmer = SnowballStemmer('spanish')\n",
        "  df2[\"Respuesta\"][i] = [stemmer.stem(j) for j in df2[\"Respuesta\"][i]]\n",
        "df2"
      ],
      "metadata": {
        "colab": {
          "base_uri": "https://localhost:8080/",
          "height": 695
        },
        "id": "WRl2zlZIKVO-",
        "outputId": "aaad758a-1ebf-4c22-ea62-6c569441dfeb"
      },
      "execution_count": 108,
      "outputs": [
        {
          "output_type": "stream",
          "name": "stderr",
          "text": [
            "/usr/local/lib/python3.7/dist-packages/ipykernel_launcher.py:2: SettingWithCopyWarning: \n",
            "A value is trying to be set on a copy of a slice from a DataFrame\n",
            "\n",
            "See the caveats in the documentation: https://pandas.pydata.org/pandas-docs/stable/user_guide/indexing.html#returning-a-view-versus-a-copy\n",
            "  \n",
            "/usr/local/lib/python3.7/dist-packages/ipykernel_launcher.py:3: SettingWithCopyWarning: \n",
            "A value is trying to be set on a copy of a slice from a DataFrame\n",
            "\n",
            "See the caveats in the documentation: https://pandas.pydata.org/pandas-docs/stable/user_guide/indexing.html#returning-a-view-versus-a-copy\n",
            "  This is separate from the ipykernel package so we can avoid doing imports until\n",
            "/usr/local/lib/python3.7/dist-packages/ipykernel_launcher.py:5: SettingWithCopyWarning: \n",
            "A value is trying to be set on a copy of a slice from a DataFrame\n",
            "\n",
            "See the caveats in the documentation: https://pandas.pydata.org/pandas-docs/stable/user_guide/indexing.html#returning-a-view-versus-a-copy\n",
            "  \"\"\"\n"
          ]
        },
        {
          "output_type": "execute_result",
          "data": {
            "text/plain": [
              "     Padron                                          Respuesta\n",
              "0    100723  [bas, utiliz, metod, analit, ayud, tom, mejor,...\n",
              "1     97739  [optimiz, diseñ, oper, ,, control, proces, ind...\n",
              "2     97920                    [aplic, metod, oper, vid, real]\n",
              "3    102908             [optimiz, oper, mediant, uso, program]\n",
              "4    100586  [form, interdisciplinari, resolv, problem, mul...\n",
              "..      ...                                                ...\n",
              "116  103787  [are, encarg, aplic, distint, metod, oper, ayu...\n",
              "117   99825                                              [nan]\n",
              "118  104911  [aplic, cienci, modern, problem, complej, apar...\n",
              "119  102939  [pud, complet, encuest, celul, dia, clas, ., d...\n",
              "120  101455  [estudi, oper, ., distribu, recurs, maximiz, b...\n",
              "\n",
              "[121 rows x 2 columns]"
            ],
            "text/html": [
              "\n",
              "  <div id=\"df-0ebf4a3f-5ed7-4809-8eeb-eb8164e11276\">\n",
              "    <div class=\"colab-df-container\">\n",
              "      <div>\n",
              "<style scoped>\n",
              "    .dataframe tbody tr th:only-of-type {\n",
              "        vertical-align: middle;\n",
              "    }\n",
              "\n",
              "    .dataframe tbody tr th {\n",
              "        vertical-align: top;\n",
              "    }\n",
              "\n",
              "    .dataframe thead th {\n",
              "        text-align: right;\n",
              "    }\n",
              "</style>\n",
              "<table border=\"1\" class=\"dataframe\">\n",
              "  <thead>\n",
              "    <tr style=\"text-align: right;\">\n",
              "      <th></th>\n",
              "      <th>Padron</th>\n",
              "      <th>Respuesta</th>\n",
              "    </tr>\n",
              "  </thead>\n",
              "  <tbody>\n",
              "    <tr>\n",
              "      <th>0</th>\n",
              "      <td>100723</td>\n",
              "      <td>[bas, utiliz, metod, analit, ayud, tom, mejor,...</td>\n",
              "    </tr>\n",
              "    <tr>\n",
              "      <th>1</th>\n",
              "      <td>97739</td>\n",
              "      <td>[optimiz, diseñ, oper, ,, control, proces, ind...</td>\n",
              "    </tr>\n",
              "    <tr>\n",
              "      <th>2</th>\n",
              "      <td>97920</td>\n",
              "      <td>[aplic, metod, oper, vid, real]</td>\n",
              "    </tr>\n",
              "    <tr>\n",
              "      <th>3</th>\n",
              "      <td>102908</td>\n",
              "      <td>[optimiz, oper, mediant, uso, program]</td>\n",
              "    </tr>\n",
              "    <tr>\n",
              "      <th>4</th>\n",
              "      <td>100586</td>\n",
              "      <td>[form, interdisciplinari, resolv, problem, mul...</td>\n",
              "    </tr>\n",
              "    <tr>\n",
              "      <th>...</th>\n",
              "      <td>...</td>\n",
              "      <td>...</td>\n",
              "    </tr>\n",
              "    <tr>\n",
              "      <th>116</th>\n",
              "      <td>103787</td>\n",
              "      <td>[are, encarg, aplic, distint, metod, oper, ayu...</td>\n",
              "    </tr>\n",
              "    <tr>\n",
              "      <th>117</th>\n",
              "      <td>99825</td>\n",
              "      <td>[nan]</td>\n",
              "    </tr>\n",
              "    <tr>\n",
              "      <th>118</th>\n",
              "      <td>104911</td>\n",
              "      <td>[aplic, cienci, modern, problem, complej, apar...</td>\n",
              "    </tr>\n",
              "    <tr>\n",
              "      <th>119</th>\n",
              "      <td>102939</td>\n",
              "      <td>[pud, complet, encuest, celul, dia, clas, ., d...</td>\n",
              "    </tr>\n",
              "    <tr>\n",
              "      <th>120</th>\n",
              "      <td>101455</td>\n",
              "      <td>[estudi, oper, ., distribu, recurs, maximiz, b...</td>\n",
              "    </tr>\n",
              "  </tbody>\n",
              "</table>\n",
              "<p>121 rows × 2 columns</p>\n",
              "</div>\n",
              "      <button class=\"colab-df-convert\" onclick=\"convertToInteractive('df-0ebf4a3f-5ed7-4809-8eeb-eb8164e11276')\"\n",
              "              title=\"Convert this dataframe to an interactive table.\"\n",
              "              style=\"display:none;\">\n",
              "        \n",
              "  <svg xmlns=\"http://www.w3.org/2000/svg\" height=\"24px\"viewBox=\"0 0 24 24\"\n",
              "       width=\"24px\">\n",
              "    <path d=\"M0 0h24v24H0V0z\" fill=\"none\"/>\n",
              "    <path d=\"M18.56 5.44l.94 2.06.94-2.06 2.06-.94-2.06-.94-.94-2.06-.94 2.06-2.06.94zm-11 1L8.5 8.5l.94-2.06 2.06-.94-2.06-.94L8.5 2.5l-.94 2.06-2.06.94zm10 10l.94 2.06.94-2.06 2.06-.94-2.06-.94-.94-2.06-.94 2.06-2.06.94z\"/><path d=\"M17.41 7.96l-1.37-1.37c-.4-.4-.92-.59-1.43-.59-.52 0-1.04.2-1.43.59L10.3 9.45l-7.72 7.72c-.78.78-.78 2.05 0 2.83L4 21.41c.39.39.9.59 1.41.59.51 0 1.02-.2 1.41-.59l7.78-7.78 2.81-2.81c.8-.78.8-2.07 0-2.86zM5.41 20L4 18.59l7.72-7.72 1.47 1.35L5.41 20z\"/>\n",
              "  </svg>\n",
              "      </button>\n",
              "      \n",
              "  <style>\n",
              "    .colab-df-container {\n",
              "      display:flex;\n",
              "      flex-wrap:wrap;\n",
              "      gap: 12px;\n",
              "    }\n",
              "\n",
              "    .colab-df-convert {\n",
              "      background-color: #E8F0FE;\n",
              "      border: none;\n",
              "      border-radius: 50%;\n",
              "      cursor: pointer;\n",
              "      display: none;\n",
              "      fill: #1967D2;\n",
              "      height: 32px;\n",
              "      padding: 0 0 0 0;\n",
              "      width: 32px;\n",
              "    }\n",
              "\n",
              "    .colab-df-convert:hover {\n",
              "      background-color: #E2EBFA;\n",
              "      box-shadow: 0px 1px 2px rgba(60, 64, 67, 0.3), 0px 1px 3px 1px rgba(60, 64, 67, 0.15);\n",
              "      fill: #174EA6;\n",
              "    }\n",
              "\n",
              "    [theme=dark] .colab-df-convert {\n",
              "      background-color: #3B4455;\n",
              "      fill: #D2E3FC;\n",
              "    }\n",
              "\n",
              "    [theme=dark] .colab-df-convert:hover {\n",
              "      background-color: #434B5C;\n",
              "      box-shadow: 0px 1px 3px 1px rgba(0, 0, 0, 0.15);\n",
              "      filter: drop-shadow(0px 1px 2px rgba(0, 0, 0, 0.3));\n",
              "      fill: #FFFFFF;\n",
              "    }\n",
              "  </style>\n",
              "\n",
              "      <script>\n",
              "        const buttonEl =\n",
              "          document.querySelector('#df-0ebf4a3f-5ed7-4809-8eeb-eb8164e11276 button.colab-df-convert');\n",
              "        buttonEl.style.display =\n",
              "          google.colab.kernel.accessAllowed ? 'block' : 'none';\n",
              "\n",
              "        async function convertToInteractive(key) {\n",
              "          const element = document.querySelector('#df-0ebf4a3f-5ed7-4809-8eeb-eb8164e11276');\n",
              "          const dataTable =\n",
              "            await google.colab.kernel.invokeFunction('convertToInteractive',\n",
              "                                                     [key], {});\n",
              "          if (!dataTable) return;\n",
              "\n",
              "          const docLinkHtml = 'Like what you see? Visit the ' +\n",
              "            '<a target=\"_blank\" href=https://colab.research.google.com/notebooks/data_table.ipynb>data table notebook</a>'\n",
              "            + ' to learn more about interactive tables.';\n",
              "          element.innerHTML = '';\n",
              "          dataTable['output_type'] = 'display_data';\n",
              "          await google.colab.output.renderOutput(dataTable, element);\n",
              "          const docLink = document.createElement('div');\n",
              "          docLink.innerHTML = docLinkHtml;\n",
              "          element.appendChild(docLink);\n",
              "        }\n",
              "      </script>\n",
              "    </div>\n",
              "  </div>\n",
              "  "
            ]
          },
          "metadata": {},
          "execution_count": 108
        }
      ]
    },
    {
      "cell_type": "markdown",
      "source": [
        "A partir de las palabras que consideramos clave, vamos a corregir los ejercicios. Tambien se podría cargar directamente la definición completa, y realizar el mismo proceso previo de stemming para obtener dichas palabras."
      ],
      "metadata": {
        "id": "EQXTgJOqUW6r"
      }
    },
    {
      "cell_type": "code",
      "source": [
        "answer = ['método','decisiones','problema', 'optimizar', 'modelo','analítico','matemático','estadística','soluciones']"
      ],
      "metadata": {
        "id": "TmHjhouiQ3Xn"
      },
      "execution_count": 109,
      "outputs": []
    },
    {
      "cell_type": "markdown",
      "source": [
        "Nos quedamos únicamente con las raíces."
      ],
      "metadata": {
        "id": "X6OeOAweU04l"
      }
    },
    {
      "cell_type": "code",
      "source": [
        "answer = [stemmer.stem(j) for j in answer]\n",
        "answer"
      ],
      "metadata": {
        "colab": {
          "base_uri": "https://localhost:8080/"
        },
        "id": "HgZZADUEUz-S",
        "outputId": "2769b91d-982b-41c0-9848-bf300db9cf12"
      },
      "execution_count": 110,
      "outputs": [
        {
          "output_type": "execute_result",
          "data": {
            "text/plain": [
              "['metod',\n",
              " 'decision',\n",
              " 'problem',\n",
              " 'optimiz',\n",
              " 'model',\n",
              " 'analit',\n",
              " 'matemat',\n",
              " 'estadist',\n",
              " 'solucion']"
            ]
          },
          "metadata": {},
          "execution_count": 110
        }
      ]
    },
    {
      "cell_type": "markdown",
      "source": [
        "Creamos el score individual"
      ],
      "metadata": {
        "id": "49e51Og7VYZx"
      }
    },
    {
      "cell_type": "code",
      "source": [
        "from collections import Counter"
      ],
      "metadata": {
        "id": "3fpoy__pWxgn"
      },
      "execution_count": 111,
      "outputs": []
    },
    {
      "cell_type": "code",
      "source": [
        "df2['Score'] = 0\n",
        "df2"
      ],
      "metadata": {
        "id": "AM8qPvRPYvGG"
      },
      "execution_count": null,
      "outputs": []
    },
    {
      "cell_type": "markdown",
      "source": [
        "Obtenemos la cantidad de coincidencias entre el patrón y la respuesta."
      ],
      "metadata": {
        "id": "l7bUalQhp27a"
      }
    },
    {
      "cell_type": "code",
      "source": [
        "for i in range (len(df2)):\n",
        "  df2['Score'][i] = list((Counter(answer) & Counter(df2['Respuesta'][i])).elements())\n",
        "  df2['Score'][i] = len(df2['Score'][i])\n",
        "df2"
      ],
      "metadata": {
        "id": "wwIkPGppVaVt"
      },
      "execution_count": null,
      "outputs": []
    },
    {
      "cell_type": "markdown",
      "source": [
        "Asignamos las respuestas al df inicial de acuerdo a una corrección por curva:"
      ],
      "metadata": {
        "id": "thWwZuoWp9IY"
      }
    },
    {
      "cell_type": "code",
      "source": [
        "for i in range (len(df2)):\n",
        "  if df2['Score'][i] < df2['Score'].quantile(0.6):\n",
        "    df['Grade'][i] = 0\n",
        "  elif df2['Score'][i] >= df2['Score'].quantile(0.6) and df2['Score'][i] <= df2['Score'].quantile(0.8):\n",
        "    df['Grade'][i] = 1\n",
        "  elif df2['Score'][i] > df2['Score'].quantile(0.8):\n",
        "    df['Grade'][i] = 2\n",
        "  \n",
        "df"
      ],
      "metadata": {
        "colab": {
          "base_uri": "https://localhost:8080/",
          "height": 695
        },
        "id": "KbnH_Dw6c-4E",
        "outputId": "26e246be-c3ee-489c-ee68-e6d36ece991a"
      },
      "execution_count": null,
      "outputs": [
        {
          "output_type": "stream",
          "name": "stderr",
          "text": [
            "/usr/local/lib/python3.7/dist-packages/ipykernel_launcher.py:7: SettingWithCopyWarning: \n",
            "A value is trying to be set on a copy of a slice from a DataFrame\n",
            "\n",
            "See the caveats in the documentation: https://pandas.pydata.org/pandas-docs/stable/user_guide/indexing.html#returning-a-view-versus-a-copy\n",
            "  import sys\n",
            "/usr/local/lib/python3.7/dist-packages/ipykernel_launcher.py:5: SettingWithCopyWarning: \n",
            "A value is trying to be set on a copy of a slice from a DataFrame\n",
            "\n",
            "See the caveats in the documentation: https://pandas.pydata.org/pandas-docs/stable/user_guide/indexing.html#returning-a-view-versus-a-copy\n",
            "  \"\"\"\n",
            "/usr/local/lib/python3.7/dist-packages/ipykernel_launcher.py:3: SettingWithCopyWarning: \n",
            "A value is trying to be set on a copy of a slice from a DataFrame\n",
            "\n",
            "See the caveats in the documentation: https://pandas.pydata.org/pandas-docs/stable/user_guide/indexing.html#returning-a-view-versus-a-copy\n",
            "  This is separate from the ipykernel package so we can avoid doing imports until\n"
          ]
        },
        {
          "output_type": "execute_result",
          "data": {
            "text/plain": [
              "          Marca temporal Dirección de correo electrónico  Padrón sin números  \\\n",
              "0    30/03/2022 17:49:38               pcortif@fi.uba.ar              100723   \n",
              "1    30/03/2022 18:00:36             mcirolini@fi.uba.ar               97739   \n",
              "2    30/03/2022 18:30:40              rparedes@fi.uba.ar               97920   \n",
              "3    30/03/2022 19:20:14              mledesma@fi.uba.ar              102908   \n",
              "4    30/03/2022 19:20:32              tandrada@fi.uba.ar              100586   \n",
              "..                   ...                             ...                 ...   \n",
              "116  30/03/2022 21:52:35            jrenovales@fi.uba.ar              103787   \n",
              "117  30/03/2022 23:07:20            jovillamil@fi.uba.ar               99825   \n",
              "118  31/03/2022 12:00:41             npesaresi@fi.uba.ar              104911   \n",
              "119   1/04/2022 17:30:14                 mjung@fi.uba.ar              102939   \n",
              "120    2/04/2022 9:55:29              fcolotto@fi.uba.ar              101455   \n",
              "\n",
              "                   ¿qué es la Investigación Operativa? Grade  \n",
              "0    Se basa en  la utilización de métodos analític...     2  \n",
              "1    Optimización y diseño de operaciones, control ...     1  \n",
              "2    Aplicaciones de métodos operativos a la vida real     1  \n",
              "3    La optimización de las operaciones mediante el...     1  \n",
              "4    Una forma interdisciplinaria de resolver probl...     1  \n",
              "..                                                 ...   ...  \n",
              "116  Es el area que se encarga de aplicar distintos...     1  \n",
              "117                                                NaN     0  \n",
              "118  Aplicación de la ciencia moderna a problemas c...     1  \n",
              "119  No pude completar la encuesta con el celular e...     0  \n",
              "120  El estudio de las operaciones. Como distribuir...     0  \n",
              "\n",
              "[121 rows x 5 columns]"
            ],
            "text/html": [
              "\n",
              "  <div id=\"df-81a01907-d204-4b34-81d4-2ec5658741f2\">\n",
              "    <div class=\"colab-df-container\">\n",
              "      <div>\n",
              "<style scoped>\n",
              "    .dataframe tbody tr th:only-of-type {\n",
              "        vertical-align: middle;\n",
              "    }\n",
              "\n",
              "    .dataframe tbody tr th {\n",
              "        vertical-align: top;\n",
              "    }\n",
              "\n",
              "    .dataframe thead th {\n",
              "        text-align: right;\n",
              "    }\n",
              "</style>\n",
              "<table border=\"1\" class=\"dataframe\">\n",
              "  <thead>\n",
              "    <tr style=\"text-align: right;\">\n",
              "      <th></th>\n",
              "      <th>Marca temporal</th>\n",
              "      <th>Dirección de correo electrónico</th>\n",
              "      <th>Padrón sin números</th>\n",
              "      <th>¿qué es la Investigación Operativa?</th>\n",
              "      <th>Grade</th>\n",
              "    </tr>\n",
              "  </thead>\n",
              "  <tbody>\n",
              "    <tr>\n",
              "      <th>0</th>\n",
              "      <td>30/03/2022 17:49:38</td>\n",
              "      <td>pcortif@fi.uba.ar</td>\n",
              "      <td>100723</td>\n",
              "      <td>Se basa en  la utilización de métodos analític...</td>\n",
              "      <td>2</td>\n",
              "    </tr>\n",
              "    <tr>\n",
              "      <th>1</th>\n",
              "      <td>30/03/2022 18:00:36</td>\n",
              "      <td>mcirolini@fi.uba.ar</td>\n",
              "      <td>97739</td>\n",
              "      <td>Optimización y diseño de operaciones, control ...</td>\n",
              "      <td>1</td>\n",
              "    </tr>\n",
              "    <tr>\n",
              "      <th>2</th>\n",
              "      <td>30/03/2022 18:30:40</td>\n",
              "      <td>rparedes@fi.uba.ar</td>\n",
              "      <td>97920</td>\n",
              "      <td>Aplicaciones de métodos operativos a la vida real</td>\n",
              "      <td>1</td>\n",
              "    </tr>\n",
              "    <tr>\n",
              "      <th>3</th>\n",
              "      <td>30/03/2022 19:20:14</td>\n",
              "      <td>mledesma@fi.uba.ar</td>\n",
              "      <td>102908</td>\n",
              "      <td>La optimización de las operaciones mediante el...</td>\n",
              "      <td>1</td>\n",
              "    </tr>\n",
              "    <tr>\n",
              "      <th>4</th>\n",
              "      <td>30/03/2022 19:20:32</td>\n",
              "      <td>tandrada@fi.uba.ar</td>\n",
              "      <td>100586</td>\n",
              "      <td>Una forma interdisciplinaria de resolver probl...</td>\n",
              "      <td>1</td>\n",
              "    </tr>\n",
              "    <tr>\n",
              "      <th>...</th>\n",
              "      <td>...</td>\n",
              "      <td>...</td>\n",
              "      <td>...</td>\n",
              "      <td>...</td>\n",
              "      <td>...</td>\n",
              "    </tr>\n",
              "    <tr>\n",
              "      <th>116</th>\n",
              "      <td>30/03/2022 21:52:35</td>\n",
              "      <td>jrenovales@fi.uba.ar</td>\n",
              "      <td>103787</td>\n",
              "      <td>Es el area que se encarga de aplicar distintos...</td>\n",
              "      <td>1</td>\n",
              "    </tr>\n",
              "    <tr>\n",
              "      <th>117</th>\n",
              "      <td>30/03/2022 23:07:20</td>\n",
              "      <td>jovillamil@fi.uba.ar</td>\n",
              "      <td>99825</td>\n",
              "      <td>NaN</td>\n",
              "      <td>0</td>\n",
              "    </tr>\n",
              "    <tr>\n",
              "      <th>118</th>\n",
              "      <td>31/03/2022 12:00:41</td>\n",
              "      <td>npesaresi@fi.uba.ar</td>\n",
              "      <td>104911</td>\n",
              "      <td>Aplicación de la ciencia moderna a problemas c...</td>\n",
              "      <td>1</td>\n",
              "    </tr>\n",
              "    <tr>\n",
              "      <th>119</th>\n",
              "      <td>1/04/2022 17:30:14</td>\n",
              "      <td>mjung@fi.uba.ar</td>\n",
              "      <td>102939</td>\n",
              "      <td>No pude completar la encuesta con el celular e...</td>\n",
              "      <td>0</td>\n",
              "    </tr>\n",
              "    <tr>\n",
              "      <th>120</th>\n",
              "      <td>2/04/2022 9:55:29</td>\n",
              "      <td>fcolotto@fi.uba.ar</td>\n",
              "      <td>101455</td>\n",
              "      <td>El estudio de las operaciones. Como distribuir...</td>\n",
              "      <td>0</td>\n",
              "    </tr>\n",
              "  </tbody>\n",
              "</table>\n",
              "<p>121 rows × 5 columns</p>\n",
              "</div>\n",
              "      <button class=\"colab-df-convert\" onclick=\"convertToInteractive('df-81a01907-d204-4b34-81d4-2ec5658741f2')\"\n",
              "              title=\"Convert this dataframe to an interactive table.\"\n",
              "              style=\"display:none;\">\n",
              "        \n",
              "  <svg xmlns=\"http://www.w3.org/2000/svg\" height=\"24px\"viewBox=\"0 0 24 24\"\n",
              "       width=\"24px\">\n",
              "    <path d=\"M0 0h24v24H0V0z\" fill=\"none\"/>\n",
              "    <path d=\"M18.56 5.44l.94 2.06.94-2.06 2.06-.94-2.06-.94-.94-2.06-.94 2.06-2.06.94zm-11 1L8.5 8.5l.94-2.06 2.06-.94-2.06-.94L8.5 2.5l-.94 2.06-2.06.94zm10 10l.94 2.06.94-2.06 2.06-.94-2.06-.94-.94-2.06-.94 2.06-2.06.94z\"/><path d=\"M17.41 7.96l-1.37-1.37c-.4-.4-.92-.59-1.43-.59-.52 0-1.04.2-1.43.59L10.3 9.45l-7.72 7.72c-.78.78-.78 2.05 0 2.83L4 21.41c.39.39.9.59 1.41.59.51 0 1.02-.2 1.41-.59l7.78-7.78 2.81-2.81c.8-.78.8-2.07 0-2.86zM5.41 20L4 18.59l7.72-7.72 1.47 1.35L5.41 20z\"/>\n",
              "  </svg>\n",
              "      </button>\n",
              "      \n",
              "  <style>\n",
              "    .colab-df-container {\n",
              "      display:flex;\n",
              "      flex-wrap:wrap;\n",
              "      gap: 12px;\n",
              "    }\n",
              "\n",
              "    .colab-df-convert {\n",
              "      background-color: #E8F0FE;\n",
              "      border: none;\n",
              "      border-radius: 50%;\n",
              "      cursor: pointer;\n",
              "      display: none;\n",
              "      fill: #1967D2;\n",
              "      height: 32px;\n",
              "      padding: 0 0 0 0;\n",
              "      width: 32px;\n",
              "    }\n",
              "\n",
              "    .colab-df-convert:hover {\n",
              "      background-color: #E2EBFA;\n",
              "      box-shadow: 0px 1px 2px rgba(60, 64, 67, 0.3), 0px 1px 3px 1px rgba(60, 64, 67, 0.15);\n",
              "      fill: #174EA6;\n",
              "    }\n",
              "\n",
              "    [theme=dark] .colab-df-convert {\n",
              "      background-color: #3B4455;\n",
              "      fill: #D2E3FC;\n",
              "    }\n",
              "\n",
              "    [theme=dark] .colab-df-convert:hover {\n",
              "      background-color: #434B5C;\n",
              "      box-shadow: 0px 1px 3px 1px rgba(0, 0, 0, 0.15);\n",
              "      filter: drop-shadow(0px 1px 2px rgba(0, 0, 0, 0.3));\n",
              "      fill: #FFFFFF;\n",
              "    }\n",
              "  </style>\n",
              "\n",
              "      <script>\n",
              "        const buttonEl =\n",
              "          document.querySelector('#df-81a01907-d204-4b34-81d4-2ec5658741f2 button.colab-df-convert');\n",
              "        buttonEl.style.display =\n",
              "          google.colab.kernel.accessAllowed ? 'block' : 'none';\n",
              "\n",
              "        async function convertToInteractive(key) {\n",
              "          const element = document.querySelector('#df-81a01907-d204-4b34-81d4-2ec5658741f2');\n",
              "          const dataTable =\n",
              "            await google.colab.kernel.invokeFunction('convertToInteractive',\n",
              "                                                     [key], {});\n",
              "          if (!dataTable) return;\n",
              "\n",
              "          const docLinkHtml = 'Like what you see? Visit the ' +\n",
              "            '<a target=\"_blank\" href=https://colab.research.google.com/notebooks/data_table.ipynb>data table notebook</a>'\n",
              "            + ' to learn more about interactive tables.';\n",
              "          element.innerHTML = '';\n",
              "          dataTable['output_type'] = 'display_data';\n",
              "          await google.colab.output.renderOutput(dataTable, element);\n",
              "          const docLink = document.createElement('div');\n",
              "          docLink.innerHTML = docLinkHtml;\n",
              "          element.appendChild(docLink);\n",
              "        }\n",
              "      </script>\n",
              "    </div>\n",
              "  </div>\n",
              "  "
            ]
          },
          "metadata": {},
          "execution_count": 168
        }
      ]
    },
    {
      "cell_type": "markdown",
      "source": [
        "Para visualizar gráficamente los resultados:"
      ],
      "metadata": {
        "id": "Ij4veEIrqIdm"
      }
    },
    {
      "cell_type": "code",
      "source": [
        "fig,axis = plt.subplots( nrows=1 , ncols=1 , figsize=(12,8) )\n",
        "df2['Score'].value_counts(ascending=True).plot(kind='barh',ax=axis)\n",
        "axis.invert_yaxis()\n",
        "axis.set_xlabel(\"Cantidad de alumnos\")\n",
        "axis.set_ylabel(\"Cantidas de palabras acertadas\")"
      ],
      "metadata": {
        "colab": {
          "base_uri": "https://localhost:8080/",
          "height": 515
        },
        "id": "Gg7fJYH5mUPY",
        "outputId": "3e0d08d1-c520-44ed-89d2-c82fa6bdbb3d"
      },
      "execution_count": null,
      "outputs": [
        {
          "output_type": "execute_result",
          "data": {
            "text/plain": [
              "Text(0, 0.5, 'Cantidas de palabras acertadas')"
            ]
          },
          "metadata": {},
          "execution_count": 166
        },
        {
          "output_type": "display_data",
          "data": {
            "text/plain": [
              "<Figure size 864x576 with 1 Axes>"
            ],
            "image/png": "[encoded data removed]"
          },
          "metadata": {
            "needs_background": "light"
          }
        }
      ]
    },
    {
      "cell_type": "code",
      "source": [
        "fig,axis = plt.subplots( nrows=1 , ncols=1 , figsize=(12,8) )\n",
        "df['Grade'].value_counts(ascending=True).plot(kind='barh',ax=axis)\n",
        "axis.invert_yaxis()\n",
        "axis.set_xlabel(\"Cantidad de alumnos\")\n",
        "axis.set_ylabel(\"Nota\")"
      ],
      "metadata": {
        "colab": {
          "base_uri": "https://localhost:8080/",
          "height": 515
        },
        "id": "7sMnSbVNnXla",
        "outputId": "71f26e75-c00d-47da-bb75-7c21654b1e60"
      },
      "execution_count": null,
      "outputs": [
        {
          "output_type": "execute_result",
          "data": {
            "text/plain": [
              "Text(0, 0.5, 'Nota')"
            ]
          },
          "metadata": {},
          "execution_count": 169
        },
        {
          "output_type": "display_data",
          "data": {
            "text/plain": [
              "<Figure size 864x576 with 1 Axes>"
            ],
            "image/png": "[encoded data removed]"
          },
          "metadata": {
            "needs_background": "light"
          }
        }
      ]
    },
    {
      "cell_type": "markdown",
      "source": [
        "Algunos otros datos a tener en cuenta:"
      ],
      "metadata": {
        "id": "7E5j-m8BppN4"
      }
    },
    {
      "cell_type": "code",
      "source": [
        "avg_score = df2['Score'].mean()\n",
        "avg_score"
      ],
      "metadata": {
        "colab": {
          "base_uri": "https://localhost:8080/"
        },
        "id": "3vpQ3FvuZ8Ty",
        "outputId": "2ce3349e-8313-4892-e522-8fd911c2fff7"
      },
      "execution_count": 114,
      "outputs": [
        {
          "output_type": "execute_result",
          "data": {
            "text/plain": [
              "1.371900826446281"
            ]
          },
          "metadata": {},
          "execution_count": 114
        }
      ]
    },
    {
      "cell_type": "code",
      "source": [
        "max_score = df2['Score'].max()\n",
        "max_score"
      ],
      "metadata": {
        "colab": {
          "base_uri": "https://localhost:8080/"
        },
        "id": "t1akysO-a98S",
        "outputId": "5543507d-2870-4001-a941-e2ad30e534a0"
      },
      "execution_count": 115,
      "outputs": [
        {
          "output_type": "execute_result",
          "data": {
            "text/plain": [
              "5"
            ]
          },
          "metadata": {},
          "execution_count": 115
        }
      ]
    },
    {
      "cell_type": "code",
      "source": [
        "median_score = df2['Score'].median()\n",
        "median_score"
      ],
      "metadata": {
        "colab": {
          "base_uri": "https://localhost:8080/"
        },
        "id": "DMV-LHhJbbZH",
        "outputId": "ce16fde8-991c-45dd-f166-650d31a7151a"
      },
      "execution_count": 117,
      "outputs": [
        {
          "output_type": "execute_result",
          "data": {
            "text/plain": [
              "1.0"
            ]
          },
          "metadata": {},
          "execution_count": 117
        }
      ]
    },
    {
      "cell_type": "code",
      "source": [
        "np.percentile(df2['Score'], np.arange(0, 100, 5))"
      ],
      "metadata": {
        "colab": {
          "base_uri": "https://localhost:8080/"
        },
        "id": "BuNLXfCKgSFq",
        "outputId": "03f867b2-dd1c-4ec0-98ef-c42498a89601"
      },
      "execution_count": 143,
      "outputs": [
        {
          "output_type": "execute_result",
          "data": {
            "text/plain": [
              "array([0.0, 0.0, 0.0, 0.0, 0.0, 0.0, 0.0, 1.0, 1.0, 1.0, 1.0, 1.0, 1.0,\n",
              "       2.0, 2.0, 2.0, 2.0, 3.0, 3.0, 4.0], dtype=object)"
            ]
          },
          "metadata": {},
          "execution_count": 143
        }
      ]
    }
  ]
}